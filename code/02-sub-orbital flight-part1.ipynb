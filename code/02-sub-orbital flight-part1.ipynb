{
 "cells": [
  {
   "cell_type": "code",
   "execution_count": 1,
   "metadata": {},
   "outputs": [],
   "source": [
    "import sys\n",
    "sys.path.append('../krpc-0.5.4')\n",
    "import krpc"
   ]
  },
  {
   "cell_type": "code",
   "execution_count": 2,
   "metadata": {},
   "outputs": [],
   "source": [
    "conn = krpc.connect(name='Sub-orbital flight')"
   ]
  },
  {
   "cell_type": "code",
   "execution_count": null,
   "metadata": {},
   "outputs": [
    {
     "data": {
      "text/plain": [
       "[<krpc.services.spacecenter.Vessel at 0x10728bbe0>,\n",
       " <krpc.services.spacecenter.Vessel at 0x10728b550>,\n",
       " <krpc.services.spacecenter.Vessel at 0x1076fa7a0>]"
      ]
     },
     "execution_count": 3,
     "metadata": {},
     "output_type": "execute_result"
    }
   ],
   "source": [
    "# 考虑到之后要操控助推器返程，卫星入轨，需要分别控制多个控制器，krpc确实可以做到这一点。\n",
    "# 手工点火，然后分离\n",
    "# 分离之后 1个有人核心，2个无人核心，一定要加入无人核心，否则不能控制飞行器。\n",
    "conn.space_center.vessels"
   ]
  },
  {
   "cell_type": "markdown",
   "metadata": {},
   "source": [
    "![Multiple vessels](../results/pictures/multiple_vessels_01.png \"Multiple vessels\")\n",
    "下面组装两个火箭，然后分别用代码进行点火发射\n",
    "\n",
    "~~注意一点的是，需要先启动点火，然后分离，然后才能分别控制阀门。\n",
    "不是很理解这个逻辑\n",
    "不过并不影响~~"
   ]
  },
  {
   "cell_type": "code",
   "execution_count": null,
   "metadata": {},
   "outputs": [],
   "source": [
    "# 分别控制助推器不同推力\n",
    "conn.space_center.vessels[1].control.throttle = 0.3\n",
    "conn.space_center.vessels[2].control.throttle = 0.2"
   ]
  },
  {
   "cell_type": "markdown",
   "metadata": {},
   "source": [
    "![Multiple vessels](../results/pictures/multiple_vessels_02.png \"Multiple vessels\")\n",
    "这解决了一个关键问题，就是如何分别控制卫星入轨，助推器回收"
   ]
  },
  {
   "cell_type": "code",
   "execution_count": null,
   "metadata": {},
   "outputs": [],
   "source": [
    "# 查看了另一个项目，是通过控制器名称来获得vessel的\n",
    "# 和我的理解是一致的，不过用字典可能更好\n",
    "def find_vessel_by_name(space_center, name):\n",
    "    for v in space_center.vessels:\n",
    "        if v.name == name:\n",
    "            return v"
   ]
  },
  {
   "cell_type": "markdown",
   "metadata": {},
   "source": [
    "最近的测试表明，并不需要控制器，Krpc有能力单独控制每一个组件(part), 同时，每个vessel需要激活才能具有control，才能activate_next_stage。\n",
    "\n",
    "我在一个没有点火，手工分离的助推器上测试了以下代码，成功点火助推器。\n",
    "```python\n",
    "conn.space_center.active_vessel = conn.space_center.vessels[1]\n",
    "conn.space_center.active_vessel.control.activate_next_stage()\n",
    "```"
   ]
  },
  {
   "cell_type": "markdown",
   "metadata": {},
   "source": []
  }
 ],
 "metadata": {
  "kernelspec": {
   "display_name": "ksp",
   "language": "python",
   "name": "python3"
  },
  "language_info": {
   "codemirror_mode": {
    "name": "ipython",
    "version": 3
   },
   "file_extension": ".py",
   "mimetype": "text/x-python",
   "name": "python",
   "nbconvert_exporter": "python",
   "pygments_lexer": "ipython3",
   "version": "3.10.15"
  }
 },
 "nbformat": 4,
 "nbformat_minor": 2
}
