{
 "cells": [
  {
   "cell_type": "code",
   "execution_count": 1,
   "metadata": {},
   "outputs": [],
   "source": [
    "import sys\n",
    "sys.path.append('../krpc-0.5.4')\n",
    "import krpc\n",
    "from loguru import logger"
   ]
  },
  {
   "cell_type": "code",
   "execution_count": 2,
   "metadata": {},
   "outputs": [],
   "source": [
    "conn = krpc.connect(name='control camera')"
   ]
  },
  {
   "cell_type": "code",
   "execution_count": 71,
   "metadata": {},
   "outputs": [
    {
     "name": "stdout",
     "output_type": "stream",
     "text": [
      "True\n"
     ]
    }
   ],
   "source": [
    "# Whether the current flight can be reverted to launch.\n",
    "print(conn.space_center.can_revert_to_launch())\n",
    "# 回到发射之前，在发射台的时候，测试代码的时候非常有用\n",
    "if conn.space_center.can_revert_to_launch():\n",
    "    conn.space_center.revert_to_launch()\n",
    "else:\n",
    "    logger.error(\"Cannot revert to launch\")"
   ]
  },
  {
   "cell_type": "code",
   "execution_count": 4,
   "metadata": {},
   "outputs": [
    {
     "data": {
      "text/plain": [
       "<krpc.services.spacecenter.Camera at 0x106deeef0>"
      ]
     },
     "execution_count": 4,
     "metadata": {},
     "output_type": "execute_result"
    }
   ],
   "source": [
    "# camera 获取方式\n",
    "conn.space_center.camera"
   ]
  },
  {
   "cell_type": "code",
   "execution_count": 82,
   "metadata": {},
   "outputs": [],
   "source": [
    "\n",
    "# 调整 camera mode\n",
    "# CameraMode 是一个枚举的类型\n",
    "# 0: automatic\n",
    "# 1: free \n",
    "# 2: chase \n",
    "# 3: locked \n",
    "# 4: orbital\n",
    "# 5: iva\n",
    "# 6: map\n",
    "\n",
    "# The camera is showing the active vessel, in “auto” mode.\n",
    "conn.space_center.camera.mode = conn.space_center.CameraMode(0)"
   ]
  },
  {
   "cell_type": "markdown",
   "metadata": {},
   "source": [
    "![Camera mode](../results/pictures/camera_mode_auto.png \"Camera mode\")"
   ]
  },
  {
   "cell_type": "code",
   "execution_count": 84,
   "metadata": {},
   "outputs": [],
   "source": [
    "# 激活一次是进入，再一次是退出\n",
    "conn.space_center.camera.mode = conn.space_center.CameraMode(5)\n"
   ]
  },
  {
   "cell_type": "markdown",
   "metadata": {},
   "source": [
    "![Camera mode](../results/pictures/camera_mode_iva.png \"Camera mode\")\n"
   ]
  },
  {
   "cell_type": "code",
   "execution_count": 85,
   "metadata": {},
   "outputs": [],
   "source": [
    "conn.space_center.camera.mode = conn.space_center.CameraMode(6)"
   ]
  },
  {
   "cell_type": "markdown",
   "metadata": {},
   "source": [
    "![Camera mode](../results/pictures/camera_mode_map.png \"Camera mode\")"
   ]
  },
  {
   "cell_type": "code",
   "execution_count": null,
   "metadata": {},
   "outputs": [],
   "source": [
    "# camera的主要参数就是pitch, heading, distance\n",
    "conn.space_center.camera.pitch = 45"
   ]
  },
  {
   "cell_type": "markdown",
   "metadata": {},
   "source": [
    "![Camera pitch](../results/pictures/camera_pitch.png \"Camera pitch\")"
   ]
  },
  {
   "cell_type": "code",
   "execution_count": 64,
   "metadata": {},
   "outputs": [],
   "source": [
    "conn.space_center.camera.pitch = 0\n",
    "conn.space_center.camera.heading = -90"
   ]
  },
  {
   "cell_type": "markdown",
   "metadata": {},
   "source": [
    "![Camera heading](../results/pictures/camera_heading.png \"Camera heading\")"
   ]
  },
  {
   "cell_type": "code",
   "execution_count": null,
   "metadata": {},
   "outputs": [],
   "source": [
    "conn.space_center.camera.pitch = 0\n",
    "conn.space_center.camera.heading = 0\n",
    "conn.space_center.camera.distance = 10"
   ]
  },
  {
   "cell_type": "markdown",
   "metadata": {},
   "source": [
    "![Camera Distance](../results/pictures/camera_distance.png \"Camera Distance\")"
   ]
  },
  {
   "cell_type": "code",
   "execution_count": 81,
   "metadata": {},
   "outputs": [],
   "source": [
    "# 如果想切换跟踪的vessel，目前来看，还是要通过设置 active_vessel 实现\n",
    "# map 模式可以用 focussed_vessel，focussed_body, focussed_node\n",
    "# 但是如何获取天体list，node list，目前还没有尝试。"
   ]
  }
 ],
 "metadata": {
  "kernelspec": {
   "display_name": "ksp",
   "language": "python",
   "name": "python3"
  },
  "language_info": {
   "codemirror_mode": {
    "name": "ipython",
    "version": 3
   },
   "file_extension": ".py",
   "mimetype": "text/x-python",
   "name": "python",
   "nbconvert_exporter": "python",
   "pygments_lexer": "ipython3",
   "version": "3.10.15"
  }
 },
 "nbformat": 4,
 "nbformat_minor": 2
}
